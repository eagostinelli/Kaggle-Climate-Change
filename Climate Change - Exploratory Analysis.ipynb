{
 "cells": [
  {
   "cell_type": "markdown",
   "metadata": {},
   "source": [
    "# Exploratory Analysis - Climate Change dataset\n",
    "\n",
    "Main Focus of this notebook is the exploratory analysis and cleansing of the dataset. \n",
    "Here is the <a href='https://www.kaggle.com/berkeleyearth/climate-change-earth-surface-temperature-data/data'>DataSet </a>\n",
    "\n",
    "1. Cleaning the dataset\n",
    "2. Feature Engineering \n",
    "3. Visualization \n",
    "\n",
    "First, let's choose the dataset that we want to work on: \n",
    "- GlobalLandTemperaturesByCountry.csv\n",
    "- GlobalTemperatures.csv\n",
    "\n",
    "## Cleaning the dataset \n",
    "Let's import some library first."
   ]
  },
  {
   "cell_type": "code",
   "execution_count": 2,
   "metadata": {
    "collapsed": true
   },
   "outputs": [],
   "source": [
    "import numpy as np \n",
    "import pandas as pd \n",
    "import matplotlib.pyplot as plt\n",
    "import seaborn as sns\n",
    "import datatime"
   ]
  },
  {
   "cell_type": "markdown",
   "metadata": {},
   "source": [
    "### Explore the dataset "
   ]
  },
  {
   "cell_type": "markdown",
   "metadata": {},
   "source": [
    "Before importing the dataset in Python , I opened simply the csv in Excel and checked the for Accents anomalies and correct what it was been imported incorrectly. "
   ]
  },
  {
   "cell_type": "code",
   "execution_count": 6,
   "metadata": {},
   "outputs": [
    {
     "data": {
      "text/html": [
       "<div>\n",
       "<style>\n",
       "    .dataframe thead tr:only-child th {\n",
       "        text-align: right;\n",
       "    }\n",
       "\n",
       "    .dataframe thead th {\n",
       "        text-align: left;\n",
       "    }\n",
       "\n",
       "    .dataframe tbody tr th {\n",
       "        vertical-align: top;\n",
       "    }\n",
       "</style>\n",
       "<table border=\"1\" class=\"dataframe\">\n",
       "  <thead>\n",
       "    <tr style=\"text-align: right;\">\n",
       "      <th></th>\n",
       "      <th>dt</th>\n",
       "      <th>AverageTemperature</th>\n",
       "      <th>AverageTemperatureUncertainty</th>\n",
       "      <th>Country</th>\n",
       "    </tr>\n",
       "  </thead>\n",
       "  <tbody>\n",
       "    <tr>\n",
       "      <th>0</th>\n",
       "      <td>1743-11-01</td>\n",
       "      <td>4.384</td>\n",
       "      <td>2.294</td>\n",
       "      <td>Aland</td>\n",
       "    </tr>\n",
       "    <tr>\n",
       "      <th>1</th>\n",
       "      <td>1743-12-01</td>\n",
       "      <td>NaN</td>\n",
       "      <td>NaN</td>\n",
       "      <td>Aland</td>\n",
       "    </tr>\n",
       "    <tr>\n",
       "      <th>2</th>\n",
       "      <td>1744-01-01</td>\n",
       "      <td>NaN</td>\n",
       "      <td>NaN</td>\n",
       "      <td>Aland</td>\n",
       "    </tr>\n",
       "    <tr>\n",
       "      <th>3</th>\n",
       "      <td>1744-02-01</td>\n",
       "      <td>NaN</td>\n",
       "      <td>NaN</td>\n",
       "      <td>Aland</td>\n",
       "    </tr>\n",
       "    <tr>\n",
       "      <th>4</th>\n",
       "      <td>1744-03-01</td>\n",
       "      <td>NaN</td>\n",
       "      <td>NaN</td>\n",
       "      <td>Aland</td>\n",
       "    </tr>\n",
       "    <tr>\n",
       "      <th>5</th>\n",
       "      <td>1744-04-01</td>\n",
       "      <td>1.530</td>\n",
       "      <td>4.680</td>\n",
       "      <td>Aland</td>\n",
       "    </tr>\n",
       "    <tr>\n",
       "      <th>6</th>\n",
       "      <td>1744-05-01</td>\n",
       "      <td>6.702</td>\n",
       "      <td>1.789</td>\n",
       "      <td>Aland</td>\n",
       "    </tr>\n",
       "    <tr>\n",
       "      <th>7</th>\n",
       "      <td>1744-06-01</td>\n",
       "      <td>11.609</td>\n",
       "      <td>1.577</td>\n",
       "      <td>Aland</td>\n",
       "    </tr>\n",
       "    <tr>\n",
       "      <th>8</th>\n",
       "      <td>1744-07-01</td>\n",
       "      <td>15.342</td>\n",
       "      <td>1.410</td>\n",
       "      <td>Aland</td>\n",
       "    </tr>\n",
       "    <tr>\n",
       "      <th>9</th>\n",
       "      <td>1744-08-01</td>\n",
       "      <td>NaN</td>\n",
       "      <td>NaN</td>\n",
       "      <td>Aland</td>\n",
       "    </tr>\n",
       "  </tbody>\n",
       "</table>\n",
       "</div>"
      ],
      "text/plain": [
       "           dt  AverageTemperature  AverageTemperatureUncertainty Country\n",
       "0  1743-11-01               4.384                          2.294   Aland\n",
       "1  1743-12-01                 NaN                            NaN   Aland\n",
       "2  1744-01-01                 NaN                            NaN   Aland\n",
       "3  1744-02-01                 NaN                            NaN   Aland\n",
       "4  1744-03-01                 NaN                            NaN   Aland\n",
       "5  1744-04-01               1.530                          4.680   Aland\n",
       "6  1744-05-01               6.702                          1.789   Aland\n",
       "7  1744-06-01              11.609                          1.577   Aland\n",
       "8  1744-07-01              15.342                          1.410   Aland\n",
       "9  1744-08-01                 NaN                            NaN   Aland"
      ]
     },
     "execution_count": 6,
     "metadata": {},
     "output_type": "execute_result"
    }
   ],
   "source": [
    "DataByCountry = pd.read_csv('./Data/GlobalLandTemperaturesByCountry.csv')\n",
    "DataByCountry.head(10)"
   ]
  },
  {
   "cell_type": "code",
   "execution_count": 7,
   "metadata": {},
   "outputs": [
    {
     "name": "stdout",
     "output_type": "stream",
     "text": [
      "<class 'pandas.core.frame.DataFrame'>\n",
      "RangeIndex: 577462 entries, 0 to 577461\n",
      "Data columns (total 4 columns):\n",
      "dt                               577462 non-null object\n",
      "AverageTemperature               544811 non-null float64\n",
      "AverageTemperatureUncertainty    545550 non-null float64\n",
      "Country                          577462 non-null object\n",
      "dtypes: float64(2), object(2)\n",
      "memory usage: 17.6+ MB\n"
     ]
    }
   ],
   "source": [
    "DataByCountry.info()"
   ]
  },
  {
   "cell_type": "markdown",
   "metadata": {},
   "source": [
    "### First Column 'dt' as DateTime type"
   ]
  },
  {
   "cell_type": "code",
   "execution_count": 16,
   "metadata": {
    "collapsed": true
   },
   "outputs": [],
   "source": [
    "DataByCountry['dt'] = DataByCountry['dt'].astype('datetime64[ns]')"
   ]
  },
  {
   "cell_type": "code",
   "execution_count": 17,
   "metadata": {},
   "outputs": [
    {
     "name": "stdout",
     "output_type": "stream",
     "text": [
      "<class 'pandas.core.frame.DataFrame'>\n",
      "RangeIndex: 577462 entries, 0 to 577461\n",
      "Data columns (total 4 columns):\n",
      "dt                               577462 non-null datetime64[ns]\n",
      "AverageTemperature               544811 non-null float64\n",
      "AverageTemperatureUncertainty    545550 non-null float64\n",
      "Country                          577462 non-null object\n",
      "dtypes: datetime64[ns](1), float64(2), object(1)\n",
      "memory usage: 17.6+ MB\n"
     ]
    }
   ],
   "source": [
    "DataByCountry.info()"
   ]
  },
  {
   "cell_type": "markdown",
   "metadata": {},
   "source": [
    "### Add a column for Year and Month"
   ]
  },
  {
   "cell_type": "code",
   "execution_count": 22,
   "metadata": {
    "collapsed": true
   },
   "outputs": [],
   "source": [
    "DataByCountry['Year']= pd.DatetimeIndex(DataByCountry['dt']).year\n",
    "DataByCountry['Month'] = pd.DatetimeIndex(DataByCountry['dt']).month"
   ]
  },
  {
   "cell_type": "code",
   "execution_count": 23,
   "metadata": {},
   "outputs": [
    {
     "data": {
      "text/html": [
       "<div>\n",
       "<style>\n",
       "    .dataframe thead tr:only-child th {\n",
       "        text-align: right;\n",
       "    }\n",
       "\n",
       "    .dataframe thead th {\n",
       "        text-align: left;\n",
       "    }\n",
       "\n",
       "    .dataframe tbody tr th {\n",
       "        vertical-align: top;\n",
       "    }\n",
       "</style>\n",
       "<table border=\"1\" class=\"dataframe\">\n",
       "  <thead>\n",
       "    <tr style=\"text-align: right;\">\n",
       "      <th></th>\n",
       "      <th>dt</th>\n",
       "      <th>AverageTemperature</th>\n",
       "      <th>AverageTemperatureUncertainty</th>\n",
       "      <th>Country</th>\n",
       "      <th>Year</th>\n",
       "      <th>Month</th>\n",
       "    </tr>\n",
       "  </thead>\n",
       "  <tbody>\n",
       "    <tr>\n",
       "      <th>0</th>\n",
       "      <td>1743-11-01</td>\n",
       "      <td>4.384</td>\n",
       "      <td>2.294</td>\n",
       "      <td>Aland</td>\n",
       "      <td>1743</td>\n",
       "      <td>11</td>\n",
       "    </tr>\n",
       "    <tr>\n",
       "      <th>1</th>\n",
       "      <td>1743-12-01</td>\n",
       "      <td>NaN</td>\n",
       "      <td>NaN</td>\n",
       "      <td>Aland</td>\n",
       "      <td>1743</td>\n",
       "      <td>12</td>\n",
       "    </tr>\n",
       "    <tr>\n",
       "      <th>2</th>\n",
       "      <td>1744-01-01</td>\n",
       "      <td>NaN</td>\n",
       "      <td>NaN</td>\n",
       "      <td>Aland</td>\n",
       "      <td>1744</td>\n",
       "      <td>1</td>\n",
       "    </tr>\n",
       "    <tr>\n",
       "      <th>3</th>\n",
       "      <td>1744-02-01</td>\n",
       "      <td>NaN</td>\n",
       "      <td>NaN</td>\n",
       "      <td>Aland</td>\n",
       "      <td>1744</td>\n",
       "      <td>2</td>\n",
       "    </tr>\n",
       "    <tr>\n",
       "      <th>4</th>\n",
       "      <td>1744-03-01</td>\n",
       "      <td>NaN</td>\n",
       "      <td>NaN</td>\n",
       "      <td>Aland</td>\n",
       "      <td>1744</td>\n",
       "      <td>3</td>\n",
       "    </tr>\n",
       "  </tbody>\n",
       "</table>\n",
       "</div>"
      ],
      "text/plain": [
       "          dt  AverageTemperature  AverageTemperatureUncertainty Country  Year  \\\n",
       "0 1743-11-01               4.384                          2.294   Aland  1743   \n",
       "1 1743-12-01                 NaN                            NaN   Aland  1743   \n",
       "2 1744-01-01                 NaN                            NaN   Aland  1744   \n",
       "3 1744-02-01                 NaN                            NaN   Aland  1744   \n",
       "4 1744-03-01                 NaN                            NaN   Aland  1744   \n",
       "\n",
       "   Month  \n",
       "0     11  \n",
       "1     12  \n",
       "2      1  \n",
       "3      2  \n",
       "4      3  "
      ]
     },
     "execution_count": 23,
     "metadata": {},
     "output_type": "execute_result"
    }
   ],
   "source": [
    "DataByCountry.head()"
   ]
  },
  {
   "cell_type": "markdown",
   "metadata": {},
   "source": [
    "### Check for missing values "
   ]
  },
  {
   "cell_type": "code",
   "execution_count": 26,
   "metadata": {},
   "outputs": [
    {
     "data": {
      "text/plain": [
       "32651"
      ]
     },
     "execution_count": 26,
     "metadata": {},
     "output_type": "execute_result"
    }
   ],
   "source": [
    "DataByCountry['AverageTemperature'].isnull().values.sum()"
   ]
  },
  {
   "cell_type": "code",
   "execution_count": 27,
   "metadata": {},
   "outputs": [
    {
     "data": {
      "text/plain": [
       "31912"
      ]
     },
     "execution_count": 27,
     "metadata": {},
     "output_type": "execute_result"
    }
   ],
   "source": [
    "DataByCountry['AverageTemperatureUncertainty'].isnull().values.sum()"
   ]
  },
  {
   "cell_type": "code",
   "execution_count": 30,
   "metadata": {},
   "outputs": [
    {
     "data": {
      "text/plain": [
       "0"
      ]
     },
     "execution_count": 30,
     "metadata": {},
     "output_type": "execute_result"
    }
   ],
   "source": [
    "DataByCountry['Country'].isnull().values.sum()\n",
    "DataByCountry['dt'].isnull().values.sum()"
   ]
  },
  {
   "cell_type": "code",
   "execution_count": 31,
   "metadata": {
    "collapsed": true
   },
   "outputs": [],
   "source": [
    "# Choose only the rows where we have a finite value for Average Temperature and Uncertainty \n",
    "DataByCountry_clean = DataByCountry[np.isfinite(DataByCountry['AverageTemperature'])]"
   ]
  },
  {
   "cell_type": "code",
   "execution_count": 33,
   "metadata": {},
   "outputs": [
    {
     "name": "stdout",
     "output_type": "stream",
     "text": [
      "<class 'pandas.core.frame.DataFrame'>\n",
      "Int64Index: 544811 entries, 0 to 577460\n",
      "Data columns (total 6 columns):\n",
      "dt                               544811 non-null datetime64[ns]\n",
      "AverageTemperature               544811 non-null float64\n",
      "AverageTemperatureUncertainty    544811 non-null float64\n",
      "Country                          544811 non-null object\n",
      "Year                             544811 non-null int64\n",
      "Month                            544811 non-null int64\n",
      "dtypes: datetime64[ns](1), float64(2), int64(2), object(1)\n",
      "memory usage: 29.1+ MB\n"
     ]
    }
   ],
   "source": [
    "DataByCountry_clean.info()"
   ]
  },
  {
   "cell_type": "markdown",
   "metadata": {},
   "source": [
    "Conclusion: I decided to just keep the values of non-NaN data. If I do not have the AverageTemprature data there is no point to keep the row. "
   ]
  },
  {
   "cell_type": "markdown",
   "metadata": {},
   "source": [
    "### Check how many years we have available "
   ]
  },
  {
   "cell_type": "code",
   "execution_count": 42,
   "metadata": {
    "collapsed": true
   },
   "outputs": [],
   "source": [
    "years = DataByCountry_clean['Year'].unique()"
   ]
  },
  {
   "cell_type": "code",
   "execution_count": 47,
   "metadata": {
    "collapsed": true
   },
   "outputs": [],
   "source": [
    "freq_years = pd.Series(DataByCountry_clean['Year']).value_counts()"
   ]
  },
  {
   "cell_type": "code",
   "execution_count": 55,
   "metadata": {},
   "outputs": [
    {
     "name": "stdout",
     "output_type": "stream",
     "text": [
      "1970    2904\n",
      "1965    2904\n",
      "1978    2904\n",
      "1977    2904\n",
      "1976    2904\n",
      "1975    2904\n",
      "1974    2904\n",
      "1973    2904\n",
      "1972    2904\n",
      "1971    2904\n",
      "2012    2904\n",
      "1969    2904\n",
      "1968    2904\n",
      "1967    2904\n",
      "1966    2904\n",
      "1964    2904\n",
      "1980    2904\n",
      "1963    2904\n",
      "1962    2904\n",
      "1961    2904\n",
      "1960    2904\n",
      "1959    2904\n",
      "1958    2904\n",
      "1957    2904\n",
      "1956    2904\n",
      "1955    2904\n",
      "1954    2904\n",
      "1953    2904\n",
      "1952    2904\n",
      "1951    2904\n",
      "1979    2904\n",
      "1981    2904\n",
      "1997    2904\n",
      "2011    2904\n",
      "2009    2904\n",
      "2008    2904\n",
      "2007    2904\n",
      "2006    2904\n",
      "2005    2904\n",
      "2004    2904\n",
      "2003    2904\n",
      "2002    2904\n",
      "2001    2904\n",
      "2000    2904\n",
      "1999    2904\n",
      "1998    2904\n",
      "1982    2904\n",
      "1996    2904\n",
      "1995    2904\n",
      "1994    2904\n",
      "1993    2904\n",
      "1992    2904\n",
      "1991    2904\n",
      "1990    2904\n",
      "1989    2904\n",
      "1988    2904\n",
      "1987    2904\n",
      "1986    2904\n",
      "1985    2904\n",
      "1984    2904\n",
      "1983    2904\n",
      "2010    2904\n",
      "1950    2902\n",
      "1949    2900\n",
      "1948    2900\n",
      "1927    2880\n",
      "1915    2880\n",
      "1925    2880\n",
      "1924    2880\n",
      "1923    2880\n",
      "1922    2880\n",
      "1919    2880\n",
      "1918    2880\n",
      "1917    2880\n",
      "1916    2880\n",
      "1914    2880\n",
      "1903    2880\n",
      "1913    2880\n",
      "1912    2880\n",
      "1911    2880\n",
      "1910    2880\n",
      "1909    2880\n",
      "1906    2880\n",
      "1905    2880\n",
      "1904    2880\n",
      "1926    2880\n",
      "1932    2880\n",
      "1928    2880\n",
      "1938    2880\n",
      "1947    2880\n",
      "1946    2880\n",
      "1929    2880\n",
      "1944    2880\n",
      "1943    2880\n",
      "1942    2880\n",
      "1941    2880\n",
      "1940    2880\n",
      "1939    2880\n",
      "1945    2880\n",
      "1937    2880\n",
      "1935    2880\n",
      "1934    2880\n",
      "1933    2880\n",
      "1931    2880\n",
      "1936    2880\n",
      "1921    2879\n",
      "1930    2879\n",
      "1920    2876\n",
      "1908    2876\n",
      "1907    2876\n",
      "1896    2856\n",
      "1895    2855\n",
      "1902    2849\n",
      "1897    2844\n",
      "1898    2842\n",
      "1899    2842\n",
      "1901    2842\n",
      "1900    2834\n",
      "1893    2832\n",
      "1892    2832\n",
      "1891    2832\n",
      "1894    2831\n",
      "1890    2802\n",
      "1886    2736\n",
      "1889    2735\n",
      "1887    2732\n",
      "1883    2727\n",
      "1884    2699\n",
      "1888    2664\n",
      "1876    2660\n",
      "1880    2653\n",
      "1878    2652\n",
      "1877    2646\n",
      "1882    2632\n",
      "1885    2628\n",
      "1875    2616\n",
      "1881    2604\n",
      "1859    2490\n",
      "1879    2472\n",
      "1861    2432\n",
      "1874    2426\n",
      "1860    2419\n",
      "1858    2374\n",
      "1864    2352\n",
      "1873    2328\n",
      "1857    2314\n",
      "1856    2261\n",
      "1869    2250\n",
      "1870    2246\n",
      "1868    2245\n",
      "1850    2200\n",
      "1871    2171\n",
      "1865    2169\n",
      "1867    2169\n",
      "1872    2157\n",
      "1866    2136\n",
      "1863    2119\n",
      "1862    2111\n",
      "1851    2074\n",
      "1855    2074\n",
      "1854    2005\n",
      "1853    1997\n",
      "2013    1957\n",
      "1849    1944\n",
      "1852    1897\n",
      "1848    1766\n",
      "1846    1746\n",
      "1847    1740\n",
      "1845    1678\n",
      "1825    1584\n",
      "1843    1529\n",
      "1844    1470\n",
      "1841    1460\n",
      "1842    1447\n",
      "1840    1438\n",
      "1827    1436\n",
      "1828    1436\n",
      "1829    1408\n",
      "1826    1408\n",
      "1824    1375\n",
      "1839    1361\n",
      "1838    1302\n",
      "1835    1278\n",
      "1837    1255\n",
      "1836    1241\n",
      "1834    1202\n",
      "1833    1200\n",
      "1832    1152\n",
      "1831    1132\n",
      "1830    1128\n",
      "1823    1105\n",
      "1821    1061\n",
      "1822    1042\n",
      "1820    1029\n",
      "1819    1004\n",
      "1817     982\n",
      "1818     958\n",
      "1816     921\n",
      "1813     913\n",
      "1815     889\n",
      "1814     879\n",
      "1812     872\n",
      "1804     835\n",
      "1811     831\n",
      "1809     814\n",
      "1803     810\n",
      "1791     808\n",
      "1810     804\n",
      "1792     788\n",
      "1789     782\n",
      "1800     780\n",
      "1796     777\n",
      "1799     776\n",
      "1802     770\n",
      "1806     768\n",
      "1801     768\n",
      "1805     767\n",
      "1797     766\n",
      "1790     766\n",
      "1798     760\n",
      "1807     759\n",
      "1787     750\n",
      "1808     744\n",
      "1788     722\n",
      "1794     719\n",
      "1793     714\n",
      "1795     708\n",
      "1777     698\n",
      "1775     695\n",
      "1782     693\n",
      "1776     687\n",
      "1781     684\n",
      "1769     682\n",
      "1778     676\n",
      "1786     672\n",
      "1768     672\n",
      "1779     671\n",
      "1785     668\n",
      "1780     668\n",
      "1783     667\n",
      "1771     660\n",
      "1770     660\n",
      "1784     660\n",
      "1773     657\n",
      "1774     656\n",
      "1772     648\n",
      "1766     648\n",
      "1759     648\n",
      "1765     647\n",
      "1761     647\n",
      "1767     647\n",
      "1762     646\n",
      "1758     645\n",
      "1763     644\n",
      "1764     643\n",
      "1753     636\n",
      "1760     636\n",
      "1757     635\n",
      "1755     634\n",
      "1756     633\n",
      "1754     633\n",
      "1750     550\n",
      "1751     400\n",
      "1744     400\n",
      "1752     300\n",
      "1745     200\n",
      "1743      50\n",
      "Name: Year, dtype: int64\n"
     ]
    }
   ],
   "source": [
    "pd.set_option('display.max_rows', 500)\n",
    "print(freq_years)"
   ]
  },
  {
   "cell_type": "markdown",
   "metadata": {},
   "source": [
    "Since 1850 it seems to be that there are more complete data (more than 2000 data points per year) so let's start the analysis from the 1850'..."
   ]
  },
  {
   "cell_type": "code",
   "execution_count": null,
   "metadata": {
    "collapsed": true
   },
   "outputs": [],
   "source": []
  }
 ],
 "metadata": {
  "kernelspec": {
   "display_name": "Python 3",
   "language": "python",
   "name": "python3"
  },
  "language_info": {
   "codemirror_mode": {
    "name": "ipython",
    "version": 3
   },
   "file_extension": ".py",
   "mimetype": "text/x-python",
   "name": "python",
   "nbconvert_exporter": "python",
   "pygments_lexer": "ipython3",
   "version": "3.6.3"
  }
 },
 "nbformat": 4,
 "nbformat_minor": 2
}
